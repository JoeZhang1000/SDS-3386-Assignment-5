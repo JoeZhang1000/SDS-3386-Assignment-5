{
 "cells": [
  {
   "cell_type": "markdown",
   "id": "73e75356",
   "metadata": {},
   "source": [
    "# SDS 3386 Assignment 5\n",
    "\n",
    "2023 Fall, Tanya Schmah. Due **Monday November 20th** at 11:59pm.\n",
    "\n",
    "Total Marks: 20\n",
    "\n",
    "**Joe Zhang, Mohamed Shakir, Rahul Atre**\n",
    "\n",
    "This assignment may be done individually or in a group of 2 or 3 (maximum); it's your choice.\n",
    "\n",
    "Complete the assignment by editing this file. If working in a group, combine your files into one clean copy. Before submission, check everything by selecting Kernel->\"Restart and Run All\". Submit:\n",
    "\n",
    "1) a **single** Notebook file, named in the format:\n",
    "\n",
    "    SDS3386_A5_Name1_Name2_Name3.ipynb\n",
    "   \n",
    "    where \"Name1\" etc. is the last name of a group member. \n",
    "\n",
    "2) the corresponding single HTML file. (Check that it shows all output.)\n",
    "\n",
    "3) **Optionally, if you prefer:** you may submit your answer to Question 3 in a separate PDF, using a similar naming convention.\n",
    "\n",
    "Each student should submit a copy of the same assignment to Brightspace, with a comment (added in the box on the assignment submission page) that lists the names of your group members."
   ]
  },
  {
   "cell_type": "code",
   "execution_count": 1,
   "id": "13a76485",
   "metadata": {},
   "outputs": [],
   "source": [
    "import pandas as pd\n",
    "import numpy as np\n",
    "import altair as alt"
   ]
  },
  {
   "cell_type": "code",
   "execution_count": null,
   "id": "bcb6e5e6",
   "metadata": {},
   "outputs": [],
   "source": [
    "# Only run these lines if you need to\n",
    "import warnings\n",
    "warnings.filterwarnings('ignore')"
   ]
  },
  {
   "cell_type": "markdown",
   "id": "4a7ab19e",
   "metadata": {},
   "source": [
    "The first two questions are about regression, using Scikit-learn. See:\n",
    "\n",
    "- Week 7 Lab\n",
    "- https://jakevdp.github.io/PythonDataScienceHandbook/05.06-linear-regression.html .\n"
   ]
  },
  {
   "cell_type": "markdown",
   "id": "a6884b6b",
   "metadata": {},
   "source": [
    "## Question 1: Simple linear regression (7 marks)\n",
    "\n",
    "The aim of this question is to predict penguin body mass from flipper length.\n",
    "\n",
    "### A)\n",
    "\n",
    "Load the penguins dataset and drop all rows with any missing values. Plot flipper length vs. body mass, choosing axis scales so that the data points are easy to see and the chart doesn't have lots of white space."
   ]
  },
  {
   "cell_type": "markdown",
   "id": "4e599352",
   "metadata": {},
   "source": [
    "*Note: it would in general be best practice to first select only the variables we are using and then drop rows with missing data. But doing it this way ensures that we consider the same penguins as in Question 2.*"
   ]
  },
  {
   "cell_type": "code",
   "execution_count": 52,
   "id": "464bf43e",
   "metadata": {},
   "outputs": [
    {
     "data": {
      "text/html": [
       "\n",
       "<style>\n",
       "  #altair-viz-eac818efa24b46339cf0b55e3abcf030.vega-embed {\n",
       "    width: 100%;\n",
       "    display: flex;\n",
       "  }\n",
       "\n",
       "  #altair-viz-eac818efa24b46339cf0b55e3abcf030.vega-embed details,\n",
       "  #altair-viz-eac818efa24b46339cf0b55e3abcf030.vega-embed details summary {\n",
       "    position: relative;\n",
       "  }\n",
       "</style>\n",
       "<div id=\"altair-viz-eac818efa24b46339cf0b55e3abcf030\"></div>\n",
       "<script type=\"text/javascript\">\n",
       "  var VEGA_DEBUG = (typeof VEGA_DEBUG == \"undefined\") ? {} : VEGA_DEBUG;\n",
       "  (function(spec, embedOpt){\n",
       "    let outputDiv = document.currentScript.previousElementSibling;\n",
       "    if (outputDiv.id !== \"altair-viz-eac818efa24b46339cf0b55e3abcf030\") {\n",
       "      outputDiv = document.getElementById(\"altair-viz-eac818efa24b46339cf0b55e3abcf030\");\n",
       "    }\n",
       "    const paths = {\n",
       "      \"vega\": \"https://cdn.jsdelivr.net/npm/vega@5?noext\",\n",
       "      \"vega-lib\": \"https://cdn.jsdelivr.net/npm/vega-lib?noext\",\n",
       "      \"vega-lite\": \"https://cdn.jsdelivr.net/npm/vega-lite@5.8.0?noext\",\n",
       "      \"vega-embed\": \"https://cdn.jsdelivr.net/npm/vega-embed@6?noext\",\n",
       "    };\n",
       "\n",
       "    function maybeLoadScript(lib, version) {\n",
       "      var key = `${lib.replace(\"-\", \"\")}_version`;\n",
       "      return (VEGA_DEBUG[key] == version) ?\n",
       "        Promise.resolve(paths[lib]) :\n",
       "        new Promise(function(resolve, reject) {\n",
       "          var s = document.createElement('script');\n",
       "          document.getElementsByTagName(\"head\")[0].appendChild(s);\n",
       "          s.async = true;\n",
       "          s.onload = () => {\n",
       "            VEGA_DEBUG[key] = version;\n",
       "            return resolve(paths[lib]);\n",
       "          };\n",
       "          s.onerror = () => reject(`Error loading script: ${paths[lib]}`);\n",
       "          s.src = paths[lib];\n",
       "        });\n",
       "    }\n",
       "\n",
       "    function showError(err) {\n",
       "      outputDiv.innerHTML = `<div class=\"error\" style=\"color:red;\">${err}</div>`;\n",
       "      throw err;\n",
       "    }\n",
       "\n",
       "    function displayChart(vegaEmbed) {\n",
       "      vegaEmbed(outputDiv, spec, embedOpt)\n",
       "        .catch(err => showError(`Javascript Error: ${err.message}<br>This usually means there's a typo in your chart specification. See the javascript console for the full traceback.`));\n",
       "    }\n",
       "\n",
       "    if(typeof define === \"function\" && define.amd) {\n",
       "      requirejs.config({paths});\n",
       "      require([\"vega-embed\"], displayChart, err => showError(`Error loading script: ${err.message}`));\n",
       "    } else {\n",
       "      maybeLoadScript(\"vega\", \"5\")\n",
       "        .then(() => maybeLoadScript(\"vega-lite\", \"5.8.0\"))\n",
       "        .then(() => maybeLoadScript(\"vega-embed\", \"6\"))\n",
       "        .catch(showError)\n",
       "        .then(() => displayChart(vegaEmbed));\n",
       "    }\n",
       "  })({\"config\": {\"view\": {\"continuousWidth\": 300, \"continuousHeight\": 300}}, \"layer\": [{\"mark\": {\"type\": \"circle\"}, \"encoding\": {\"x\": {\"field\": \"flipper_length_mm\", \"scale\": {\"zero\": false}, \"title\": \"Flipper Length\", \"type\": \"quantitative\"}, \"y\": {\"field\": \"body_mass_g\", \"scale\": {\"zero\": false}, \"title\": \"Body Mass\", \"type\": \"quantitative\"}}}, {\"mark\": {\"type\": \"line\", \"color\": \"red\"}, \"encoding\": {\"x\": {\"field\": \"flipper_length_mm\", \"scale\": {\"zero\": false}, \"title\": \"Flipper Length\", \"type\": \"quantitative\"}, \"y\": {\"field\": \"body_mass_g\", \"scale\": {\"zero\": false}, \"title\": \"Body Mass\", \"type\": \"quantitative\"}}, \"transform\": [{\"on\": \"flipper_length_mm\", \"regression\": \"body_mass_g\"}]}], \"data\": {\"name\": \"data-c18cca557f21c5abec186dd0220dee2b\"}, \"$schema\": \"https://vega.github.io/schema/vega-lite/v5.8.0.json\", \"datasets\": {\"data-c18cca557f21c5abec186dd0220dee2b\": [{\"flipper_length_mm\": 181.0, \"body_mass_g\": 3750.0}, {\"flipper_length_mm\": 186.0, \"body_mass_g\": 3800.0}, {\"flipper_length_mm\": 195.0, \"body_mass_g\": 3250.0}, {\"flipper_length_mm\": 193.0, \"body_mass_g\": 3450.0}, {\"flipper_length_mm\": 190.0, \"body_mass_g\": 3650.0}, {\"flipper_length_mm\": 181.0, \"body_mass_g\": 3625.0}, {\"flipper_length_mm\": 195.0, \"body_mass_g\": 4675.0}, {\"flipper_length_mm\": 193.0, \"body_mass_g\": 3475.0}, {\"flipper_length_mm\": 190.0, \"body_mass_g\": 4250.0}, {\"flipper_length_mm\": 186.0, \"body_mass_g\": 3300.0}, {\"flipper_length_mm\": 180.0, \"body_mass_g\": 3700.0}, {\"flipper_length_mm\": 182.0, \"body_mass_g\": 3200.0}, {\"flipper_length_mm\": 191.0, \"body_mass_g\": 3800.0}, {\"flipper_length_mm\": 198.0, \"body_mass_g\": 4400.0}, {\"flipper_length_mm\": 185.0, \"body_mass_g\": 3700.0}, {\"flipper_length_mm\": 195.0, \"body_mass_g\": 3450.0}, {\"flipper_length_mm\": 197.0, \"body_mass_g\": 4500.0}, {\"flipper_length_mm\": 184.0, \"body_mass_g\": 3325.0}, {\"flipper_length_mm\": 194.0, \"body_mass_g\": 4200.0}, {\"flipper_length_mm\": 174.0, \"body_mass_g\": 3400.0}, {\"flipper_length_mm\": 180.0, \"body_mass_g\": 3600.0}, {\"flipper_length_mm\": 189.0, \"body_mass_g\": 3800.0}, {\"flipper_length_mm\": 185.0, \"body_mass_g\": 3950.0}, {\"flipper_length_mm\": 180.0, \"body_mass_g\": 3800.0}, {\"flipper_length_mm\": 187.0, \"body_mass_g\": 3800.0}, {\"flipper_length_mm\": 183.0, \"body_mass_g\": 3550.0}, {\"flipper_length_mm\": 187.0, \"body_mass_g\": 3200.0}, {\"flipper_length_mm\": 172.0, \"body_mass_g\": 3150.0}, {\"flipper_length_mm\": 180.0, \"body_mass_g\": 3950.0}, {\"flipper_length_mm\": 178.0, \"body_mass_g\": 3250.0}, {\"flipper_length_mm\": 178.0, \"body_mass_g\": 3900.0}, {\"flipper_length_mm\": 188.0, \"body_mass_g\": 3300.0}, {\"flipper_length_mm\": 184.0, \"body_mass_g\": 3900.0}, {\"flipper_length_mm\": 195.0, \"body_mass_g\": 3325.0}, {\"flipper_length_mm\": 196.0, \"body_mass_g\": 4150.0}, {\"flipper_length_mm\": 190.0, \"body_mass_g\": 3950.0}, {\"flipper_length_mm\": 180.0, \"body_mass_g\": 3550.0}, {\"flipper_length_mm\": 181.0, \"body_mass_g\": 3300.0}, {\"flipper_length_mm\": 184.0, \"body_mass_g\": 4650.0}, {\"flipper_length_mm\": 182.0, \"body_mass_g\": 3150.0}, {\"flipper_length_mm\": 195.0, \"body_mass_g\": 3900.0}, {\"flipper_length_mm\": 186.0, \"body_mass_g\": 3100.0}, {\"flipper_length_mm\": 196.0, \"body_mass_g\": 4400.0}, {\"flipper_length_mm\": 185.0, \"body_mass_g\": 3000.0}, {\"flipper_length_mm\": 190.0, \"body_mass_g\": 4600.0}, {\"flipper_length_mm\": 182.0, \"body_mass_g\": 3425.0}, {\"flipper_length_mm\": 179.0, \"body_mass_g\": 2975.0}, {\"flipper_length_mm\": 190.0, \"body_mass_g\": 3450.0}, {\"flipper_length_mm\": 191.0, \"body_mass_g\": 4150.0}, {\"flipper_length_mm\": 186.0, \"body_mass_g\": 3500.0}, {\"flipper_length_mm\": 188.0, \"body_mass_g\": 4300.0}, {\"flipper_length_mm\": 190.0, \"body_mass_g\": 3450.0}, {\"flipper_length_mm\": 200.0, \"body_mass_g\": 4050.0}, {\"flipper_length_mm\": 187.0, \"body_mass_g\": 2900.0}, {\"flipper_length_mm\": 191.0, \"body_mass_g\": 3700.0}, {\"flipper_length_mm\": 186.0, \"body_mass_g\": 3550.0}, {\"flipper_length_mm\": 193.0, \"body_mass_g\": 3800.0}, {\"flipper_length_mm\": 181.0, \"body_mass_g\": 2850.0}, {\"flipper_length_mm\": 194.0, \"body_mass_g\": 3750.0}, {\"flipper_length_mm\": 185.0, \"body_mass_g\": 3150.0}, {\"flipper_length_mm\": 195.0, \"body_mass_g\": 4400.0}, {\"flipper_length_mm\": 185.0, \"body_mass_g\": 3600.0}, {\"flipper_length_mm\": 192.0, \"body_mass_g\": 4050.0}, {\"flipper_length_mm\": 184.0, \"body_mass_g\": 2850.0}, {\"flipper_length_mm\": 192.0, \"body_mass_g\": 3950.0}, {\"flipper_length_mm\": 195.0, \"body_mass_g\": 3350.0}, {\"flipper_length_mm\": 188.0, \"body_mass_g\": 4100.0}, {\"flipper_length_mm\": 190.0, \"body_mass_g\": 3050.0}, {\"flipper_length_mm\": 198.0, \"body_mass_g\": 4450.0}, {\"flipper_length_mm\": 190.0, \"body_mass_g\": 3600.0}, {\"flipper_length_mm\": 190.0, \"body_mass_g\": 3900.0}, {\"flipper_length_mm\": 196.0, \"body_mass_g\": 3550.0}, {\"flipper_length_mm\": 197.0, \"body_mass_g\": 4150.0}, {\"flipper_length_mm\": 190.0, \"body_mass_g\": 3700.0}, {\"flipper_length_mm\": 195.0, \"body_mass_g\": 4250.0}, {\"flipper_length_mm\": 191.0, \"body_mass_g\": 3700.0}, {\"flipper_length_mm\": 184.0, \"body_mass_g\": 3900.0}, {\"flipper_length_mm\": 187.0, \"body_mass_g\": 3550.0}, {\"flipper_length_mm\": 195.0, \"body_mass_g\": 4000.0}, {\"flipper_length_mm\": 189.0, \"body_mass_g\": 3200.0}, {\"flipper_length_mm\": 196.0, \"body_mass_g\": 4700.0}, {\"flipper_length_mm\": 187.0, \"body_mass_g\": 3800.0}, {\"flipper_length_mm\": 193.0, \"body_mass_g\": 4200.0}, {\"flipper_length_mm\": 191.0, \"body_mass_g\": 3350.0}, {\"flipper_length_mm\": 194.0, \"body_mass_g\": 3550.0}, {\"flipper_length_mm\": 190.0, \"body_mass_g\": 3800.0}, {\"flipper_length_mm\": 189.0, \"body_mass_g\": 3500.0}, {\"flipper_length_mm\": 189.0, \"body_mass_g\": 3950.0}, {\"flipper_length_mm\": 190.0, \"body_mass_g\": 3600.0}, {\"flipper_length_mm\": 202.0, \"body_mass_g\": 3550.0}, {\"flipper_length_mm\": 205.0, \"body_mass_g\": 4300.0}, {\"flipper_length_mm\": 185.0, \"body_mass_g\": 3400.0}, {\"flipper_length_mm\": 186.0, \"body_mass_g\": 4450.0}, {\"flipper_length_mm\": 187.0, \"body_mass_g\": 3300.0}, {\"flipper_length_mm\": 208.0, \"body_mass_g\": 4300.0}, {\"flipper_length_mm\": 190.0, \"body_mass_g\": 3700.0}, {\"flipper_length_mm\": 196.0, \"body_mass_g\": 4350.0}, {\"flipper_length_mm\": 178.0, \"body_mass_g\": 2900.0}, {\"flipper_length_mm\": 192.0, \"body_mass_g\": 4100.0}, {\"flipper_length_mm\": 192.0, \"body_mass_g\": 3725.0}, {\"flipper_length_mm\": 203.0, \"body_mass_g\": 4725.0}, {\"flipper_length_mm\": 183.0, \"body_mass_g\": 3075.0}, {\"flipper_length_mm\": 190.0, \"body_mass_g\": 4250.0}, {\"flipper_length_mm\": 193.0, \"body_mass_g\": 2925.0}, {\"flipper_length_mm\": 184.0, \"body_mass_g\": 3550.0}, {\"flipper_length_mm\": 199.0, \"body_mass_g\": 3750.0}, {\"flipper_length_mm\": 190.0, \"body_mass_g\": 3900.0}, {\"flipper_length_mm\": 181.0, \"body_mass_g\": 3175.0}, {\"flipper_length_mm\": 197.0, \"body_mass_g\": 4775.0}, {\"flipper_length_mm\": 198.0, \"body_mass_g\": 3825.0}, {\"flipper_length_mm\": 191.0, \"body_mass_g\": 4600.0}, {\"flipper_length_mm\": 193.0, \"body_mass_g\": 3200.0}, {\"flipper_length_mm\": 197.0, \"body_mass_g\": 4275.0}, {\"flipper_length_mm\": 191.0, \"body_mass_g\": 3900.0}, {\"flipper_length_mm\": 196.0, \"body_mass_g\": 4075.0}, {\"flipper_length_mm\": 188.0, \"body_mass_g\": 2900.0}, {\"flipper_length_mm\": 199.0, \"body_mass_g\": 3775.0}, {\"flipper_length_mm\": 189.0, \"body_mass_g\": 3350.0}, {\"flipper_length_mm\": 189.0, \"body_mass_g\": 3325.0}, {\"flipper_length_mm\": 187.0, \"body_mass_g\": 3150.0}, {\"flipper_length_mm\": 198.0, \"body_mass_g\": 3500.0}, {\"flipper_length_mm\": 176.0, \"body_mass_g\": 3450.0}, {\"flipper_length_mm\": 202.0, \"body_mass_g\": 3875.0}, {\"flipper_length_mm\": 186.0, \"body_mass_g\": 3050.0}, {\"flipper_length_mm\": 199.0, \"body_mass_g\": 4000.0}, {\"flipper_length_mm\": 191.0, \"body_mass_g\": 3275.0}, {\"flipper_length_mm\": 195.0, \"body_mass_g\": 4300.0}, {\"flipper_length_mm\": 191.0, \"body_mass_g\": 3050.0}, {\"flipper_length_mm\": 210.0, \"body_mass_g\": 4000.0}, {\"flipper_length_mm\": 190.0, \"body_mass_g\": 3325.0}, {\"flipper_length_mm\": 197.0, \"body_mass_g\": 3500.0}, {\"flipper_length_mm\": 193.0, \"body_mass_g\": 3500.0}, {\"flipper_length_mm\": 199.0, \"body_mass_g\": 4475.0}, {\"flipper_length_mm\": 187.0, \"body_mass_g\": 3425.0}, {\"flipper_length_mm\": 190.0, \"body_mass_g\": 3900.0}, {\"flipper_length_mm\": 191.0, \"body_mass_g\": 3175.0}, {\"flipper_length_mm\": 200.0, \"body_mass_g\": 3975.0}, {\"flipper_length_mm\": 185.0, \"body_mass_g\": 3400.0}, {\"flipper_length_mm\": 193.0, \"body_mass_g\": 4250.0}, {\"flipper_length_mm\": 193.0, \"body_mass_g\": 3400.0}, {\"flipper_length_mm\": 187.0, \"body_mass_g\": 3475.0}, {\"flipper_length_mm\": 188.0, \"body_mass_g\": 3050.0}, {\"flipper_length_mm\": 190.0, \"body_mass_g\": 3725.0}, {\"flipper_length_mm\": 192.0, \"body_mass_g\": 3000.0}, {\"flipper_length_mm\": 185.0, \"body_mass_g\": 3650.0}, {\"flipper_length_mm\": 190.0, \"body_mass_g\": 4250.0}, {\"flipper_length_mm\": 184.0, \"body_mass_g\": 3475.0}, {\"flipper_length_mm\": 195.0, \"body_mass_g\": 3450.0}, {\"flipper_length_mm\": 193.0, \"body_mass_g\": 3750.0}, {\"flipper_length_mm\": 187.0, \"body_mass_g\": 3700.0}, {\"flipper_length_mm\": 201.0, \"body_mass_g\": 4000.0}, {\"flipper_length_mm\": 192.0, \"body_mass_g\": 3500.0}, {\"flipper_length_mm\": 196.0, \"body_mass_g\": 3900.0}, {\"flipper_length_mm\": 193.0, \"body_mass_g\": 3650.0}, {\"flipper_length_mm\": 188.0, \"body_mass_g\": 3525.0}, {\"flipper_length_mm\": 197.0, \"body_mass_g\": 3725.0}, {\"flipper_length_mm\": 198.0, \"body_mass_g\": 3950.0}, {\"flipper_length_mm\": 178.0, \"body_mass_g\": 3250.0}, {\"flipper_length_mm\": 197.0, \"body_mass_g\": 3750.0}, {\"flipper_length_mm\": 195.0, \"body_mass_g\": 4150.0}, {\"flipper_length_mm\": 198.0, \"body_mass_g\": 3700.0}, {\"flipper_length_mm\": 193.0, \"body_mass_g\": 3800.0}, {\"flipper_length_mm\": 194.0, \"body_mass_g\": 3775.0}, {\"flipper_length_mm\": 185.0, \"body_mass_g\": 3700.0}, {\"flipper_length_mm\": 201.0, \"body_mass_g\": 4050.0}, {\"flipper_length_mm\": 190.0, \"body_mass_g\": 3575.0}, {\"flipper_length_mm\": 201.0, \"body_mass_g\": 4050.0}, {\"flipper_length_mm\": 197.0, \"body_mass_g\": 3300.0}, {\"flipper_length_mm\": 181.0, \"body_mass_g\": 3700.0}, {\"flipper_length_mm\": 190.0, \"body_mass_g\": 3450.0}, {\"flipper_length_mm\": 195.0, \"body_mass_g\": 4400.0}, {\"flipper_length_mm\": 181.0, \"body_mass_g\": 3600.0}, {\"flipper_length_mm\": 191.0, \"body_mass_g\": 3400.0}, {\"flipper_length_mm\": 187.0, \"body_mass_g\": 2900.0}, {\"flipper_length_mm\": 193.0, \"body_mass_g\": 3800.0}, {\"flipper_length_mm\": 195.0, \"body_mass_g\": 3300.0}, {\"flipper_length_mm\": 197.0, \"body_mass_g\": 4150.0}, {\"flipper_length_mm\": 200.0, \"body_mass_g\": 3400.0}, {\"flipper_length_mm\": 200.0, \"body_mass_g\": 3800.0}, {\"flipper_length_mm\": 191.0, \"body_mass_g\": 3700.0}, {\"flipper_length_mm\": 205.0, \"body_mass_g\": 4550.0}, {\"flipper_length_mm\": 187.0, \"body_mass_g\": 3200.0}, {\"flipper_length_mm\": 201.0, \"body_mass_g\": 4300.0}, {\"flipper_length_mm\": 187.0, \"body_mass_g\": 3350.0}, {\"flipper_length_mm\": 203.0, \"body_mass_g\": 4100.0}, {\"flipper_length_mm\": 195.0, \"body_mass_g\": 3600.0}, {\"flipper_length_mm\": 199.0, \"body_mass_g\": 3900.0}, {\"flipper_length_mm\": 195.0, \"body_mass_g\": 3850.0}, {\"flipper_length_mm\": 210.0, \"body_mass_g\": 4800.0}, {\"flipper_length_mm\": 192.0, \"body_mass_g\": 2700.0}, {\"flipper_length_mm\": 205.0, \"body_mass_g\": 4500.0}, {\"flipper_length_mm\": 210.0, \"body_mass_g\": 3950.0}, {\"flipper_length_mm\": 187.0, \"body_mass_g\": 3650.0}, {\"flipper_length_mm\": 196.0, \"body_mass_g\": 3550.0}, {\"flipper_length_mm\": 196.0, \"body_mass_g\": 3500.0}, {\"flipper_length_mm\": 196.0, \"body_mass_g\": 3675.0}, {\"flipper_length_mm\": 201.0, \"body_mass_g\": 4450.0}, {\"flipper_length_mm\": 190.0, \"body_mass_g\": 3400.0}, {\"flipper_length_mm\": 212.0, \"body_mass_g\": 4300.0}, {\"flipper_length_mm\": 187.0, \"body_mass_g\": 3250.0}, {\"flipper_length_mm\": 198.0, \"body_mass_g\": 3675.0}, {\"flipper_length_mm\": 199.0, \"body_mass_g\": 3325.0}, {\"flipper_length_mm\": 201.0, \"body_mass_g\": 3950.0}, {\"flipper_length_mm\": 193.0, \"body_mass_g\": 3600.0}, {\"flipper_length_mm\": 203.0, \"body_mass_g\": 4050.0}, {\"flipper_length_mm\": 187.0, \"body_mass_g\": 3350.0}, {\"flipper_length_mm\": 197.0, \"body_mass_g\": 3450.0}, {\"flipper_length_mm\": 191.0, \"body_mass_g\": 3250.0}, {\"flipper_length_mm\": 203.0, \"body_mass_g\": 4050.0}, {\"flipper_length_mm\": 202.0, \"body_mass_g\": 3800.0}, {\"flipper_length_mm\": 194.0, \"body_mass_g\": 3525.0}, {\"flipper_length_mm\": 206.0, \"body_mass_g\": 3950.0}, {\"flipper_length_mm\": 189.0, \"body_mass_g\": 3650.0}, {\"flipper_length_mm\": 195.0, \"body_mass_g\": 3650.0}, {\"flipper_length_mm\": 207.0, \"body_mass_g\": 4000.0}, {\"flipper_length_mm\": 202.0, \"body_mass_g\": 3400.0}, {\"flipper_length_mm\": 193.0, \"body_mass_g\": 3775.0}, {\"flipper_length_mm\": 210.0, \"body_mass_g\": 4100.0}, {\"flipper_length_mm\": 198.0, \"body_mass_g\": 3775.0}, {\"flipper_length_mm\": 211.0, \"body_mass_g\": 4500.0}, {\"flipper_length_mm\": 230.0, \"body_mass_g\": 5700.0}, {\"flipper_length_mm\": 210.0, \"body_mass_g\": 4450.0}, {\"flipper_length_mm\": 218.0, \"body_mass_g\": 5700.0}, {\"flipper_length_mm\": 215.0, \"body_mass_g\": 5400.0}, {\"flipper_length_mm\": 210.0, \"body_mass_g\": 4550.0}, {\"flipper_length_mm\": 211.0, \"body_mass_g\": 4800.0}, {\"flipper_length_mm\": 219.0, \"body_mass_g\": 5200.0}, {\"flipper_length_mm\": 209.0, \"body_mass_g\": 4400.0}, {\"flipper_length_mm\": 215.0, \"body_mass_g\": 5150.0}, {\"flipper_length_mm\": 214.0, \"body_mass_g\": 4650.0}, {\"flipper_length_mm\": 216.0, \"body_mass_g\": 5550.0}, {\"flipper_length_mm\": 214.0, \"body_mass_g\": 4650.0}, {\"flipper_length_mm\": 213.0, \"body_mass_g\": 5850.0}, {\"flipper_length_mm\": 210.0, \"body_mass_g\": 4200.0}, {\"flipper_length_mm\": 217.0, \"body_mass_g\": 5850.0}, {\"flipper_length_mm\": 210.0, \"body_mass_g\": 4150.0}, {\"flipper_length_mm\": 221.0, \"body_mass_g\": 6300.0}, {\"flipper_length_mm\": 209.0, \"body_mass_g\": 4800.0}, {\"flipper_length_mm\": 222.0, \"body_mass_g\": 5350.0}, {\"flipper_length_mm\": 218.0, \"body_mass_g\": 5700.0}, {\"flipper_length_mm\": 215.0, \"body_mass_g\": 5000.0}, {\"flipper_length_mm\": 213.0, \"body_mass_g\": 4400.0}, {\"flipper_length_mm\": 215.0, \"body_mass_g\": 5050.0}, {\"flipper_length_mm\": 215.0, \"body_mass_g\": 5000.0}, {\"flipper_length_mm\": 215.0, \"body_mass_g\": 5100.0}, {\"flipper_length_mm\": 216.0, \"body_mass_g\": 4100.0}, {\"flipper_length_mm\": 215.0, \"body_mass_g\": 5650.0}, {\"flipper_length_mm\": 210.0, \"body_mass_g\": 4600.0}, {\"flipper_length_mm\": 220.0, \"body_mass_g\": 5550.0}, {\"flipper_length_mm\": 222.0, \"body_mass_g\": 5250.0}, {\"flipper_length_mm\": 209.0, \"body_mass_g\": 4700.0}, {\"flipper_length_mm\": 207.0, \"body_mass_g\": 5050.0}, {\"flipper_length_mm\": 230.0, \"body_mass_g\": 6050.0}, {\"flipper_length_mm\": 220.0, \"body_mass_g\": 5150.0}, {\"flipper_length_mm\": 220.0, \"body_mass_g\": 5400.0}, {\"flipper_length_mm\": 213.0, \"body_mass_g\": 4950.0}, {\"flipper_length_mm\": 219.0, \"body_mass_g\": 5250.0}, {\"flipper_length_mm\": 208.0, \"body_mass_g\": 4350.0}, {\"flipper_length_mm\": 208.0, \"body_mass_g\": 5350.0}, {\"flipper_length_mm\": 208.0, \"body_mass_g\": 3950.0}, {\"flipper_length_mm\": 225.0, \"body_mass_g\": 5700.0}, {\"flipper_length_mm\": 210.0, \"body_mass_g\": 4300.0}, {\"flipper_length_mm\": 216.0, \"body_mass_g\": 4750.0}, {\"flipper_length_mm\": 222.0, \"body_mass_g\": 5550.0}, {\"flipper_length_mm\": 217.0, \"body_mass_g\": 4900.0}, {\"flipper_length_mm\": 210.0, \"body_mass_g\": 4200.0}, {\"flipper_length_mm\": 225.0, \"body_mass_g\": 5400.0}, {\"flipper_length_mm\": 213.0, \"body_mass_g\": 5100.0}, {\"flipper_length_mm\": 215.0, \"body_mass_g\": 5300.0}, {\"flipper_length_mm\": 210.0, \"body_mass_g\": 4850.0}, {\"flipper_length_mm\": 220.0, \"body_mass_g\": 5300.0}, {\"flipper_length_mm\": 210.0, \"body_mass_g\": 4400.0}, {\"flipper_length_mm\": 225.0, \"body_mass_g\": 5000.0}, {\"flipper_length_mm\": 217.0, \"body_mass_g\": 4900.0}, {\"flipper_length_mm\": 220.0, \"body_mass_g\": 5050.0}, {\"flipper_length_mm\": 208.0, \"body_mass_g\": 4300.0}, {\"flipper_length_mm\": 220.0, \"body_mass_g\": 5000.0}, {\"flipper_length_mm\": 208.0, \"body_mass_g\": 4450.0}, {\"flipper_length_mm\": 224.0, \"body_mass_g\": 5550.0}, {\"flipper_length_mm\": 208.0, \"body_mass_g\": 4200.0}, {\"flipper_length_mm\": 221.0, \"body_mass_g\": 5300.0}, {\"flipper_length_mm\": 214.0, \"body_mass_g\": 4400.0}, {\"flipper_length_mm\": 231.0, \"body_mass_g\": 5650.0}, {\"flipper_length_mm\": 219.0, \"body_mass_g\": 4700.0}, {\"flipper_length_mm\": 230.0, \"body_mass_g\": 5700.0}, {\"flipper_length_mm\": 214.0, \"body_mass_g\": 4650.0}, {\"flipper_length_mm\": 229.0, \"body_mass_g\": 5800.0}, {\"flipper_length_mm\": 220.0, \"body_mass_g\": 4700.0}, {\"flipper_length_mm\": 223.0, \"body_mass_g\": 5550.0}, {\"flipper_length_mm\": 216.0, \"body_mass_g\": 4750.0}, {\"flipper_length_mm\": 221.0, \"body_mass_g\": 5000.0}, {\"flipper_length_mm\": 221.0, \"body_mass_g\": 5100.0}, {\"flipper_length_mm\": 217.0, \"body_mass_g\": 5200.0}, {\"flipper_length_mm\": 216.0, \"body_mass_g\": 4700.0}, {\"flipper_length_mm\": 230.0, \"body_mass_g\": 5800.0}, {\"flipper_length_mm\": 209.0, \"body_mass_g\": 4600.0}, {\"flipper_length_mm\": 220.0, \"body_mass_g\": 6000.0}, {\"flipper_length_mm\": 215.0, \"body_mass_g\": 4750.0}, {\"flipper_length_mm\": 223.0, \"body_mass_g\": 5950.0}, {\"flipper_length_mm\": 212.0, \"body_mass_g\": 4625.0}, {\"flipper_length_mm\": 221.0, \"body_mass_g\": 5450.0}, {\"flipper_length_mm\": 212.0, \"body_mass_g\": 4725.0}, {\"flipper_length_mm\": 224.0, \"body_mass_g\": 5350.0}, {\"flipper_length_mm\": 212.0, \"body_mass_g\": 4750.0}, {\"flipper_length_mm\": 228.0, \"body_mass_g\": 5600.0}, {\"flipper_length_mm\": 218.0, \"body_mass_g\": 4600.0}, {\"flipper_length_mm\": 218.0, \"body_mass_g\": 5300.0}, {\"flipper_length_mm\": 212.0, \"body_mass_g\": 4875.0}, {\"flipper_length_mm\": 230.0, \"body_mass_g\": 5550.0}, {\"flipper_length_mm\": 218.0, \"body_mass_g\": 4950.0}, {\"flipper_length_mm\": 228.0, \"body_mass_g\": 5400.0}, {\"flipper_length_mm\": 212.0, \"body_mass_g\": 4750.0}, {\"flipper_length_mm\": 224.0, \"body_mass_g\": 5650.0}, {\"flipper_length_mm\": 214.0, \"body_mass_g\": 4850.0}, {\"flipper_length_mm\": 226.0, \"body_mass_g\": 5200.0}, {\"flipper_length_mm\": 216.0, \"body_mass_g\": 4925.0}, {\"flipper_length_mm\": 222.0, \"body_mass_g\": 4875.0}, {\"flipper_length_mm\": 203.0, \"body_mass_g\": 4625.0}, {\"flipper_length_mm\": 225.0, \"body_mass_g\": 5250.0}, {\"flipper_length_mm\": 219.0, \"body_mass_g\": 4850.0}, {\"flipper_length_mm\": 228.0, \"body_mass_g\": 5600.0}, {\"flipper_length_mm\": 215.0, \"body_mass_g\": 4975.0}, {\"flipper_length_mm\": 228.0, \"body_mass_g\": 5500.0}, {\"flipper_length_mm\": 216.0, \"body_mass_g\": 4725.0}, {\"flipper_length_mm\": 215.0, \"body_mass_g\": 5500.0}, {\"flipper_length_mm\": 210.0, \"body_mass_g\": 4700.0}, {\"flipper_length_mm\": 219.0, \"body_mass_g\": 5500.0}, {\"flipper_length_mm\": 208.0, \"body_mass_g\": 4575.0}, {\"flipper_length_mm\": 209.0, \"body_mass_g\": 5500.0}, {\"flipper_length_mm\": 216.0, \"body_mass_g\": 5000.0}, {\"flipper_length_mm\": 229.0, \"body_mass_g\": 5950.0}, {\"flipper_length_mm\": 213.0, \"body_mass_g\": 4650.0}, {\"flipper_length_mm\": 230.0, \"body_mass_g\": 5500.0}, {\"flipper_length_mm\": 217.0, \"body_mass_g\": 4375.0}, {\"flipper_length_mm\": 230.0, \"body_mass_g\": 5850.0}, {\"flipper_length_mm\": 217.0, \"body_mass_g\": 4875.0}, {\"flipper_length_mm\": 222.0, \"body_mass_g\": 6000.0}, {\"flipper_length_mm\": 214.0, \"body_mass_g\": 4925.0}, {\"flipper_length_mm\": 215.0, \"body_mass_g\": 4850.0}, {\"flipper_length_mm\": 222.0, \"body_mass_g\": 5750.0}, {\"flipper_length_mm\": 212.0, \"body_mass_g\": 5200.0}, {\"flipper_length_mm\": 213.0, \"body_mass_g\": 5400.0}]}}, {\"mode\": \"vega-lite\"});\n",
       "</script>"
      ],
      "text/plain": [
       "alt.LayerChart(...)"
      ]
     },
     "execution_count": 52,
     "metadata": {},
     "output_type": "execute_result"
    }
   ],
   "source": [
    "# Solution to part a\n",
    "pen = pd.read_csv(\"penguins.csv\")\n",
    "pen = pen[['flipper_length_mm', 'body_mass_g']]\n",
    "pen = pen.dropna()\n",
    "\n",
    "chart = alt.Chart(pen).encode(\n",
    "    x = alt.X('flipper_length_mm', scale = alt.Scale(zero = False), title = \"Flipper Length\"),\n",
    "    y = alt.Y(\"body_mass_g\", scale = alt.Scale(zero = False), title = \"Body Mass\")\n",
    ").mark_circle()\n",
    "\n",
    "chart + chart.transform_regression('flipper_length_mm','body_mass_g').mark_line(color='red')"
   ]
  },
  {
   "cell_type": "markdown",
   "id": "d2e11097",
   "metadata": {},
   "source": [
    "### B)\n",
    "\n",
    "Create two dataframes: `X` containing only the flipper length column, and `y` containing only the body mass column.\n",
    "\n",
    "Split the data randomly into training and test sets, containing 2/3 and 1/3 of the data respectively, using `sklearn.model_selection.train_test_split`, as follows:\n",
    "\n",
    "`X_train, X_test, y_train, y_test = train_test_split(X, y, test_size=0.33, random_state=1)`\n",
    "     \n",
    "Notes: \n",
    "\n",
    "- `random_state` is the \"seed\" of the random number generator. If you choose a different seed (or don't specify it, so that a default is used), you will probably get slightly different results. Using the specified random state makes it easier to compare methods, and makes the assignment easier to mark.\n",
    "\n",
    "- The output of `train_test_split` is four Pandas dataframes."
   ]
  },
  {
   "cell_type": "code",
   "execution_count": 53,
   "id": "838a3e54",
   "metadata": {},
   "outputs": [],
   "source": [
    "# Solution to part b\n",
    "\n",
    "from sklearn.model_selection import train_test_split\n",
    "\n",
    "X = pen[['flipper_length_mm']]\n",
    "y = pen[['body_mass_g']]\n",
    "\n",
    "X_train, X_test, y_train, y_test = train_test_split(X, y, test_size=0.33, random_state=1)"
   ]
  },
  {
   "cell_type": "markdown",
   "id": "46033cb9",
   "metadata": {},
   "source": [
    "### C)\n",
    "\n",
    "Using `sklearn.linear_model.LinearRegression`, fit a linear model, using only the training data. Print the coefficients of the fitted model, which are: the slope `model.coef_[0]` and the intercept `model.intercept_`. Do a sanity check on this model, by calculating \"by hand\" the `y` value predicted by this model if `X` equals $200$, using only arithmetic (i.e. python but not Scikit-learn).\n",
    "\n",
    "*Using your chart above, check that your predicted y value is a plausible body mass for a penguin with flipper length 200 mm. (No need to write anything about this.)*"
   ]
  },
  {
   "cell_type": "code",
   "execution_count": 54,
   "id": "dfa4103b",
   "metadata": {},
   "outputs": [
    {
     "name": "stdout",
     "output_type": "stream",
     "text": [
      "The slope of the regression line is 47.55777759625785\n",
      "The intercept of the regression line is -5351.407154331796\n",
      "The prediction at X = 200 is 4160.1483649197735\n"
     ]
    }
   ],
   "source": [
    "# Solution to part c\n",
    "\n",
    "from sklearn.linear_model import LinearRegression\n",
    "\n",
    "model = LinearRegression()\n",
    "\n",
    "model.fit(X_train, y_train)\n",
    "print(\"The slope of the regression line is\", model.coef_[0][0])\n",
    "print(\"The intercept of the regression line is\", model.intercept_[0])\n",
    "\n",
    "print(\"The prediction at X = 200 is\", model.coef_[0][0]*200 + model.intercept_[0])"
   ]
  },
  {
   "cell_type": "markdown",
   "id": "7c2ab039",
   "metadata": {},
   "source": [
    "### D)\n",
    "\n",
    "Evaluate the model on the test dataset, i.e. for every penguin in the test set (only), use your linear model from (C) to predict body mass from flipper length, storing results in an array called `y_test_pred`. Make a scatter plot of true vs predicted mass."
   ]
  },
  {
   "cell_type": "code",
   "execution_count": 78,
   "id": "b1f3d2b9",
   "metadata": {},
   "outputs": [
    {
     "data": {
      "text/plain": [
       "array([[3684.57058896],\n",
       "       [3732.12836655],\n",
       "       [3304.10836819],\n",
       "       [5111.30391684],\n",
       "       [5206.41947204],\n",
       "       [4873.51502886],\n",
       "       [4017.47503213],\n",
       "       [3922.35947694],\n",
       "       [4255.26392011],\n",
       "       [3541.89725617],\n",
       "       [3637.01281136],\n",
       "       [4921.07280646],\n",
       "       [3494.33947857],\n",
       "       [3827.24392175],\n",
       "       [3684.57058896],\n",
       "       [4873.51502886],\n",
       "       [5158.86169444],\n",
       "       [4540.61058569],\n",
       "       [5539.32391521],\n",
       "       [4683.28391848],\n",
       "       [5016.18836165],\n",
       "       [3541.89725617],\n",
       "       [4493.05280809],\n",
       "       [3922.35947694],\n",
       "       [5206.41947204],\n",
       "       [4255.26392011],\n",
       "       [5253.97724963],\n",
       "       [4588.16836329],\n",
       "       [4921.07280646],\n",
       "       [4778.39947367],\n",
       "       [3684.57058896],\n",
       "       [4160.14836492],\n",
       "       [4873.51502886],\n",
       "       [3256.55059059],\n",
       "       [3874.80169934],\n",
       "       [5396.65058242],\n",
       "       [3446.78170098],\n",
       "       [3827.24392175],\n",
       "       [4968.63058406],\n",
       "       [4065.03280973],\n",
       "       [4730.84169607],\n",
       "       [3922.35947694],\n",
       "       [4017.47503213],\n",
       "       [3732.12836655],\n",
       "       [5491.76613761],\n",
       "       [3684.57058896],\n",
       "       [3969.91725453],\n",
       "       [4635.72614088],\n",
       "       [4968.63058406],\n",
       "       [3494.33947857],\n",
       "       [4873.51502886],\n",
       "       [3922.35947694],\n",
       "       [5158.86169444],\n",
       "       [5158.86169444],\n",
       "       [3732.12836655],\n",
       "       [4112.59058732],\n",
       "       [2828.53059222],\n",
       "       [4635.72614088],\n",
       "       [4778.39947367],\n",
       "       [4445.4950305 ],\n",
       "       [3113.8772578 ],\n",
       "       [3446.78170098],\n",
       "       [5158.86169444],\n",
       "       [3541.89725617],\n",
       "       [3874.80169934],\n",
       "       [4112.59058732],\n",
       "       [4397.9372529 ],\n",
       "       [4873.51502886],\n",
       "       [5301.53502723],\n",
       "       [3684.57058896],\n",
       "       [3684.57058896],\n",
       "       [5111.30391684],\n",
       "       [5491.76613761],\n",
       "       [3684.57058896],\n",
       "       [4921.07280646],\n",
       "       [4017.47503213],\n",
       "       [3446.78170098],\n",
       "       [4873.51502886],\n",
       "       [4112.59058732],\n",
       "       [3541.89725617],\n",
       "       [3684.57058896],\n",
       "       [3494.33947857],\n",
       "       [3732.12836655],\n",
       "       [4017.47503213],\n",
       "       [3256.55059059],\n",
       "       [5586.88169281],\n",
       "       [5349.09280483],\n",
       "       [3779.68614415],\n",
       "       [3922.35947694],\n",
       "       [3684.57058896],\n",
       "       [3541.89725617],\n",
       "       [3684.57058896],\n",
       "       [4017.47503213],\n",
       "       [3827.24392175],\n",
       "       [3494.33947857],\n",
       "       [5206.41947204],\n",
       "       [3541.89725617],\n",
       "       [4635.72614088],\n",
       "       [4873.51502886],\n",
       "       [4730.84169607],\n",
       "       [3304.10836819],\n",
       "       [3684.57058896],\n",
       "       [3922.35947694],\n",
       "       [4825.95725127],\n",
       "       [4968.63058406],\n",
       "       [4921.07280646],\n",
       "       [3399.22392338],\n",
       "       [5063.74613925],\n",
       "       [4873.51502886],\n",
       "       [3684.57058896],\n",
       "       [4968.63058406],\n",
       "       [4207.70614252],\n",
       "       [3969.91725453]])"
      ]
     },
     "execution_count": 78,
     "metadata": {},
     "output_type": "execute_result"
    }
   ],
   "source": [
    "y_test_pred = pd.DataFrame\n",
    "y_test_pred = model.predict(X_test)\n",
    "\n",
    "predictions = pd.DataFrame()\n",
    "predictions['actual'] = y_test\n",
    "predictions['predicted'] = y_test_pred\n",
    "\n",
    "alt.Chart(predictions).encode(\n",
    "    x = alt.X('actual', scale = alt.Scale(zero = False), title = \"True Values\"),\n",
    "    y = alt.Y('predicted', scale = alt.Scale(zero = False), title = \"Predicted Values\")\n",
    ").mark_circle()\n",
    "\n",
    "y_test_pred"
   ]
  },
  {
   "cell_type": "markdown",
   "id": "a833279b",
   "metadata": {},
   "source": [
    "### E)\n",
    "\n",
    "Write your own function to calculate the Mean Squared Error between true and predicted body mass:\n",
    "$$\n",
    "MSE = \\frac{1}{N} \\sum_{i=1}^N (y_i - \\hat y_i)^2,\n",
    "$$\n",
    "where $y_i$ and $\\hat y_i$ are the true and predicted values of $y$ (i.e. body mass) for the $i^{th}$ observation (i.e. $i^{th}$ penguin here).\n",
    "\n",
    "Evaluate this function on the test dataset. *You may need to use `.to_numpy()` .*\n",
    "The result is called the **Test MSE**. This is one of the most common metrics for evaluating regression methods.\n",
    "\n",
    "Check that you get the same result as given by `sklearn.metrics.mean_squared_error`.\n",
    "\n",
    "*Note: a common alternative is Root Mean Squared Error (RMSE), which is just $\\sqrt{\\textrm{MSE}}$, the advantage being that it has the same units as the dependent variable $y$.*"
   ]
  },
  {
   "cell_type": "code",
   "execution_count": 56,
   "id": "f7b643e2",
   "metadata": {},
   "outputs": [
    {
     "name": "stdout",
     "output_type": "stream",
     "text": [
      "The MSE calculated using the defined function above is 158698.01321868956\n",
      "The MSE calculated using sklearn is 158698.01321868956\n"
     ]
    }
   ],
   "source": [
    "from sklearn.metrics import mean_squared_error\n",
    "\n",
    "def mse(true_values, predicted_values):\n",
    "    errors = true_values - predicted_values\n",
    "    total = 0\n",
    "    for i in range(len(errors)):\n",
    "        total = total + errors.iloc[i].to_numpy()[0]**2\n",
    "    mse = total/len(errors)\n",
    "    return mse\n",
    "\n",
    "print(\"The MSE calculated using the defined function above is\", mse(y_test, y_test_pred))\n",
    "\n",
    "print(\"The MSE calculated using sklearn is\", mean_squared_error(y_test, y_test_pred))\n",
    "\n"
   ]
  },
  {
   "cell_type": "markdown",
   "id": "e8585604",
   "metadata": {},
   "source": [
    "The MSE is calculated to be approximately 158698.013. "
   ]
  },
  {
   "cell_type": "markdown",
   "id": "d515d1f7",
   "metadata": {},
   "source": [
    "### F)\n",
    "\n",
    "Write your own function to calculate $R^2$, the coefficient of determination, defined as:\n",
    "$$\n",
    "R^2 = 1 - \\frac{RSS}{TSS},\n",
    "$$\n",
    "where: \n",
    "- RSS is the *residual sum of squares*, which is the same thing as the Sum of Squared Errors (SSE), i.e. \n",
    "$\\sum_i(y_i - \\hat y_i)^2$, where $y_i$ are the true values and $\\hat y_i$ are the \n",
    "predicted values; and\n",
    "- TSS is the *total sum of squares*, which is the sum of $(y_i - \\bar y)^2$, where\n",
    "$y_i$ are the true values and $\\bar y$ is the mean of those true values.\n",
    "\n",
    "Apply your function to the *test data*. The result is called **Predicted R^2** (\"predicted\" meaning calculated from test data not used in the fitting of the model).\n",
    "\n",
    "Check that your answer is the same as the one given by  `sklearn.metrics.r2_score`.\n",
    "\n",
    "*Note: $R^2$ is easier to interpret since it has a maximum value of $1$, attained when predictions are perfect. But it's just a linear function of MSE, since TSS is independent of the predictions. MSE is a more common metric in machine learning.*"
   ]
  },
  {
   "cell_type": "code",
   "execution_count": 57,
   "id": "430d69b6",
   "metadata": {},
   "outputs": [
    {
     "name": "stdout",
     "output_type": "stream",
     "text": [
      "The R^2 value computed from the defined function above is 0.7849347235645716\n",
      "The R^2 value computed using sklearn is 0.7849347235645716\n"
     ]
    }
   ],
   "source": [
    "from sklearn.metrics import r2_score\n",
    "def r_squared(true_values, predicted_values):\n",
    "    errorsResiduals = true_values - predicted_values\n",
    "    mean = pd.DataFrame\n",
    "    mean = true_values.mean()\n",
    "    errorsTotal = true_values - mean\n",
    "    tss = 0\n",
    "    rss = 0\n",
    "    for i in range(len(errorsTotal)):\n",
    "        tss = tss + errorsTotal.iloc[i].to_numpy()[0]**2\n",
    "        rss = rss + errorsResiduals.iloc[i].to_numpy()[0]**2\n",
    "    r_squared = 1 - rss/tss\n",
    "    return r_squared\n",
    "\n",
    "print(\"The R^2 value computed from the defined function above is\", r_squared(y_test, y_test_pred))\n",
    "print(\"The R^2 value computed using sklearn is\", r2_score(y_test, y_test_pred))"
   ]
  },
  {
   "cell_type": "markdown",
   "id": "79e572fe",
   "metadata": {},
   "source": [
    "### G)\n",
    "\n",
    "Apply your model to the *training* data. Calculate MSE and $R^2$.\n",
    "\n",
    "*Usually, a model fitted to training data will fit that training data better than independent test data. So Training MSE will be lower than Test MSE, and the $R^2$  (which, by default is calculated on the training data) is higher than Predicted $R^2$ (calculated on test data). This is the case here, with this random split, though not for all possible splits.*"
   ]
  },
  {
   "cell_type": "code",
   "execution_count": 76,
   "id": "ca40bc95",
   "metadata": {},
   "outputs": [
    {
     "name": "stdout",
     "output_type": "stream",
     "text": [
      "MSE on training data is 153836.03642941985\n",
      "R^2 on training data is 0.739711577819622\n"
     ]
    }
   ],
   "source": [
    "y_train_pred = model.predict(X_train)\n",
    "\n",
    "print(\"MSE on training data is\", mse(y_train, y_train_pred))\n",
    "print(\"R^2 on training data is\", r_squared(y_train, y_train_pred))\n"
   ]
  },
  {
   "cell_type": "markdown",
   "id": "d686caa0",
   "metadata": {},
   "source": [
    "## Question 2: Multiple linear regression (7 marks)\n",
    "\n",
    "The aim of this question is to predict penguin body mass from other variables in the dataset.\n",
    "\n",
    "There are four continuous variables, and three categorical ones (species, island, sex). To use the latter, we first have to encode them as numerical values, as shown below or alternatively using e.g. `pandas.get_dummies` or `sklearn.preprocessing.OneHotEncoder`. You might want to try these functions and/or use all columns, but for this assignment it's optional, and we instead propose a simple model using only three predictors."
   ]
  },
  {
   "cell_type": "markdown",
   "id": "ec4c4174",
   "metadata": {},
   "source": [
    "Run the following cell to load the penguins dataset, drop all rows with any missing values, and then encode the `sex` variable as a binary numerical variable `sex_male`. "
   ]
  },
  {
   "cell_type": "code",
   "execution_count": null,
   "id": "fbfa8fef",
   "metadata": {},
   "outputs": [],
   "source": [
    "df = pd.read_csv('penguins.csv').dropna()\n",
    "\n",
    "df['sex_male'] = df['sex'].apply(lambda x: 1 if x == 'MALE' else 0)"
   ]
  },
  {
   "cell_type": "markdown",
   "id": "eed6a374",
   "metadata": {},
   "source": [
    "Run the following cell to create two dataframes: X containing the columns 'flipper_length_mm', 'bill_length_mm' and 'sex_male' and y containing only the body mass column; and then split the data randomly into training and test sets.\n",
    "\n",
    "*Note: `y_train` and `y_test` will be the same as in Question 1.*"
   ]
  },
  {
   "cell_type": "code",
   "execution_count": null,
   "id": "241868b4",
   "metadata": {},
   "outputs": [],
   "source": [
    "X = df[['flipper_length_mm', 'bill_length_mm', 'sex_male']]\n",
    "y = df[['body_mass_g']]\n",
    "\n",
    "X_train2, X_test2, y_train, y_test = train_test_split(X, y, test_size=0.33, random_state=1)"
   ]
  },
  {
   "cell_type": "markdown",
   "id": "89204c86",
   "metadata": {},
   "source": [
    "### A)\n",
    "\n",
    "Fit a linear model to the training data using `sklearn.linear_model.LinearRegression`. Print the coefficients of the fitted model, which are in the array `model.coef_` and `model.intercept_`.\n",
    "\n",
    "Are any of these the same as the simple linear regression coefficients found in Question 1?"
   ]
  },
  {
   "cell_type": "markdown",
   "id": "ed729461",
   "metadata": {},
   "source": [
    "### B)\n",
    "\n",
    "Evaluate this model on the test dataset, storing results in an array called `y_test_pred2`. Calculate the Test MSE and Predicted $R^2$, and compare these with the results from the simple linear regression in Question 1."
   ]
  },
  {
   "cell_type": "markdown",
   "id": "b5aa4d71",
   "metadata": {},
   "source": [
    "This multiple regression model performs better than simple regression on flipper length only, by both of these metrics.\n",
    "\n",
    "*Remark: adding \"relevant\" predictor variables usually improves results, as here, but not always. Regularization often helps, as in Part (C).*"
   ]
  },
  {
   "cell_type": "markdown",
   "id": "a50f0be2",
   "metadata": {},
   "source": [
    "### C)\n",
    "\n",
    "One of the great things about Scikit-learn is that it offers hundreds of classification and regression methods with the same API, so once you've learned how to use one method, you can try many others without even needing to know how they work.\n",
    "\n",
    "Run the next cell to initialize Ridge Regression, which can be interpreted as multiple linear regression with a prior belief that regression coefficients should be small."
   ]
  },
  {
   "cell_type": "code",
   "execution_count": null,
   "id": "bfe0cff7",
   "metadata": {},
   "outputs": [],
   "source": [
    "from sklearn.linear_model import Ridge\n",
    "\n",
    "ridge_model = Ridge(alpha=10.0)  # higher alpha means stronger regularization"
   ]
  },
  {
   "cell_type": "markdown",
   "id": "3a9e9c45",
   "metadata": {},
   "source": [
    "Fit a ridge regression model using the same training data as above, and evaluate it on the same test data. Print the Test MSE and Predicted $R^2$. "
   ]
  },
  {
   "cell_type": "markdown",
   "id": "9fd1148e",
   "metadata": {},
   "source": [
    "### D)\n",
    "\n",
    "Try ridge regression with at least 10 different alpha values including $0.01$ and $1000$. Plot Test MSE vs. alpha. Use a log scale for alpha and start the MSE axis at a nonzero value.\n",
    "\n",
    "*Note: alpha = 0 makes ridge regression equivalent to linear regression, as you can check. **However,** don't use alpha = 0 here because log(0) is undefined, and the question asks for a log scale.*"
   ]
  },
  {
   "cell_type": "markdown",
   "id": "fad2cd76",
   "metadata": {},
   "source": [
    "## Question 3 (6 marks)\n",
    "\n",
    "List three ways one can try to prevent, detect or mitigate algorithmic bias.\n",
    "For each of these three, describe and discuss briefly in maximum three sentences. As a starting point, see:\n",
    "\n",
    "- https://www.technologyreview.com/2019/02/04/137602\n",
    "\n",
    "- https://en.wikipedia.org/wiki/Algorithmic_bias\n",
    "\n",
    "- https://youtu.be/fMym_BKWQzk (especially from 47:00)\n",
    "\n",
    "- Luk Arbuckle's CANSSI Lecture shown in Week 8.\n",
    "\n",
    "Your answer to this question should be maximum one page in length including references."
   ]
  }
 ],
 "metadata": {
  "kernelspec": {
   "display_name": "Python 3 (ipykernel)",
   "language": "python",
   "name": "python3"
  },
  "language_info": {
   "codemirror_mode": {
    "name": "ipython",
    "version": 3
   },
   "file_extension": ".py",
   "mimetype": "text/x-python",
   "name": "python",
   "nbconvert_exporter": "python",
   "pygments_lexer": "ipython3",
   "version": "3.9.18"
  }
 },
 "nbformat": 4,
 "nbformat_minor": 5
}
